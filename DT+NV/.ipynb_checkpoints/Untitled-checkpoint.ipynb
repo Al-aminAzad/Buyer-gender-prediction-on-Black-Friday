{
 "cells": [
  {
   "cell_type": "code",
   "execution_count": 64,
   "metadata": {},
   "outputs": [],
   "source": [
    "import pandas as pd\n",
    "df=pd.read_excel(\"Data_Set.xlsx\")\n"
   ]
  },
  {
   "cell_type": "code",
   "execution_count": 56,
   "metadata": {},
   "outputs": [],
   "source": [
    "X=df.iloc[:,:6]\n",
    "Y=df.iloc[:,-1]"
   ]
  },
  {
   "cell_type": "code",
   "execution_count": 57,
   "metadata": {},
   "outputs": [],
   "source": [
    "from sklearn.model_selection import train_test_split\n",
    "X_train,X_test,Y_train,Y_test=train_test_split(X,Y,test_size=.2,random_state=0)\n"
   ]
  },
  {
   "cell_type": "code",
   "execution_count": 63,
   "metadata": {},
   "outputs": [
    {
     "name": "stdout",
     "output_type": "stream",
     "text": [
      "Enter cylinder no : 8\n",
      "Enter displacement : 350\n",
      "Enter hourse_power : 150\n",
      "Enter weight : 4699\n",
      "Enter accelator : 14.5\n",
      "Enter model_year : 74\n",
      "['Bad']\n"
     ]
    }
   ],
   "source": [
    "from sklearn import tree\n",
    "algo= tree.DecisionTreeClassifier()\n",
    "algo.fit(X_train, Y_train)\n",
    "#Y_predict =algo.predict(X_test)\n",
    "#print(Y_predict)\n",
    "cy=float(input(\"Enter cylinder no : \"))\n",
    "dis=float(input(\"Enter displacement : \"))\n",
    "hp=float(input(\"Enter hourse_power : \"))\n",
    "w=float(input(\"Enter weight : \"))\n",
    "asc=float(input(\"Enter accelator : \"))\n",
    "my=float(input(\"Enter model_year : \"))\n",
    "X_new=[[cy,dis,hp,w,asc,my]]\n",
    "Y_pred=algo.predict(X_new)\n",
    "print(Y_pred)\n"
   ]
  },
  {
   "cell_type": "code",
   "execution_count": 65,
   "metadata": {},
   "outputs": [
    {
     "name": "stdout",
     "output_type": "stream",
     "text": [
      "Naive Bayes\n"
     ]
    }
   ],
   "source": [
    "print(\"Naive Bayes\")"
   ]
  },
  {
   "cell_type": "code",
   "execution_count": 72,
   "metadata": {},
   "outputs": [],
   "source": [
    "import pandas as pd\n",
    "df=pd.read_excel(\"Data_Set.xlsx\")"
   ]
  },
  {
   "cell_type": "code",
   "execution_count": 73,
   "metadata": {},
   "outputs": [],
   "source": [
    "X=df.iloc[:,:6]\n",
    "Y=df.iloc[:,-1]"
   ]
  },
  {
   "cell_type": "code",
   "execution_count": 74,
   "metadata": {},
   "outputs": [],
   "source": [
    "from sklearn.model_selection import train_test_split\n",
    "X_train,X_test,Y_train,Y_test=train_test_split(X,Y,test_size=.2,random_state=0)"
   ]
  },
  {
   "cell_type": "code",
   "execution_count": null,
   "metadata": {},
   "outputs": [],
   "source": [
    "from sklearn.naive_bayes import GaussianNB\n",
    "algo=GaussianNB()\n",
    "algo.fit(X_train, Y_train)\n",
    "#Y_predict =algo.predict(X_test)\n",
    "#print(Y_predict)\n",
    "cy=float(input(\"Enter cylinder no : \"))\n",
    "dis=float(input(\"Enter displacement : \"))\n",
    "hp=float(input(\"Enter hourse_power : \"))\n",
    "w=float(input(\"Enter weight : \"))\n",
    "asc=float(input(\"Enter accelator : \"))\n",
    "my=float(input(\"Enter model_year : \"))\n",
    "X_new=[[cy,dis,hp,w,asc,my]]\n",
    "Y_pred=algo.predict(X_new)\n",
    "print(Y_pred)"
   ]
  }
 ],
 "metadata": {
  "kernelspec": {
   "display_name": "Python 3",
   "language": "python",
   "name": "python3"
  },
  "language_info": {
   "codemirror_mode": {
    "name": "ipython",
    "version": 3
   },
   "file_extension": ".py",
   "mimetype": "text/x-python",
   "name": "python",
   "nbconvert_exporter": "python",
   "pygments_lexer": "ipython3",
   "version": "3.7.0"
  }
 },
 "nbformat": 4,
 "nbformat_minor": 2
}
