{
 "cells": [
  {
   "cell_type": "code",
   "execution_count": 16,
   "metadata": {},
   "outputs": [],
   "source": [
    "import pandas as pd"
   ]
  },
  {
   "cell_type": "code",
   "execution_count": 17,
   "metadata": {},
   "outputs": [],
   "source": [
    "data = pd.read_csv(\"mile_per_gallon.csv\")"
   ]
  },
  {
   "cell_type": "code",
   "execution_count": 18,
   "metadata": {},
   "outputs": [
    {
     "data": {
      "text/plain": [
       "array([[8.000e+00, 3.500e+02, 1.500e+02, 4.699e+03, 1.450e+01],\n",
       "       [8.000e+00, 4.000e+02, 1.700e+02, 4.746e+03, 1.200e+01],\n",
       "       [8.000e+00, 4.000e+02, 1.750e+02, 4.385e+03, 1.200e+01],\n",
       "       [6.000e+00, 2.500e+02, 7.200e+01, 3.158e+03, 1.950e+01],\n",
       "       [8.000e+00, 3.040e+02, 1.500e+02, 3.892e+03, 1.250e+01],\n",
       "       [8.000e+00, 3.500e+02, 1.450e+02, 4.440e+03, 1.400e+01],\n",
       "       [6.000e+00, 2.500e+02, 1.050e+02, 3.897e+03, 1.850e+01],\n",
       "       [6.000e+00, 1.630e+02, 1.330e+02, 3.410e+03, 1.580e+01],\n",
       "       [8.000e+00, 2.600e+02, 1.100e+02, 4.060e+03, 1.900e+01],\n",
       "       [8.000e+00, 3.050e+02, 1.300e+02, 3.840e+03, 1.540e+01],\n",
       "       [6.000e+00, 2.500e+02, 1.100e+02, 3.520e+03, 1.640e+01],\n",
       "       [6.000e+00, 2.580e+02, 9.500e+01, 3.193e+03, 1.780e+01],\n",
       "       [4.000e+00, 1.210e+02, 1.120e+02, 2.933e+03, 1.450e+01],\n",
       "       [6.000e+00, 2.250e+02, 1.050e+02, 3.613e+03, 1.650e+01],\n",
       "       [4.000e+00, 1.210e+02, 1.120e+02, 2.868e+03, 1.550e+01],\n",
       "       [6.000e+00, 2.250e+02, 9.500e+01, 3.264e+03, 1.600e+01],\n",
       "       [6.000e+00, 2.000e+02, 8.500e+01, 2.990e+03, 1.820e+01],\n",
       "       [4.000e+00, 1.210e+02, 9.800e+01, 2.945e+03, 1.450e+01],\n",
       "       [6.000e+00, 2.320e+02, 9.000e+01, 3.085e+03, 1.760e+01],\n",
       "       [4.000e+00, 1.200e+02, 9.700e+01, 2.506e+03, 1.450e+01],\n",
       "       [4.000e+00, 1.510e+02, 8.500e+01, 2.855e+03, 1.760e+01],\n",
       "       [4.000e+00, 1.160e+02, 7.500e+01, 2.158e+03, 1.550e+01],\n",
       "       [4.000e+00, 1.190e+02, 9.700e+01, 2.545e+03, 1.700e+01],\n",
       "       [6.000e+00, 1.460e+02, 1.200e+02, 2.930e+03, 1.380e+01],\n",
       "       [4.000e+00, 1.160e+02, 8.100e+01, 2.220e+03, 1.690e+01],\n",
       "       [4.000e+00, 1.560e+02, 9.200e+01, 2.620e+03, 1.440e+01],\n",
       "       [4.000e+00, 1.400e+02, 8.800e+01, 2.870e+03, 1.810e+01],\n",
       "       [4.000e+00, 9.700e+01, 6.000e+01, 1.834e+03, 1.900e+01],\n",
       "       [4.000e+00, 1.340e+02, 9.500e+01, 2.560e+03, 1.420e+01],\n",
       "       [4.000e+00, 9.700e+01, 7.500e+01, 2.171e+03, 1.600e+01],\n",
       "       [4.000e+00, 9.700e+01, 7.800e+01, 1.940e+03, 1.450e+01],\n",
       "       [4.000e+00, 9.800e+01, 8.300e+01, 2.219e+03, 1.650e+01],\n",
       "       [4.000e+00, 7.900e+01, 7.000e+01, 2.074e+03, 1.950e+01],\n",
       "       [4.000e+00, 9.100e+01, 6.800e+01, 1.970e+03, 1.760e+01],\n",
       "       [4.000e+00, 8.900e+01, 7.100e+01, 1.925e+03, 1.400e+01],\n",
       "       [4.000e+00, 8.300e+01, 6.100e+01, 2.003e+03, 1.900e+01],\n",
       "       [4.000e+00, 1.120e+02, 8.800e+01, 2.395e+03, 1.800e+01],\n",
       "       [4.000e+00, 8.100e+01, 6.000e+01, 1.760e+03, 1.610e+01],\n",
       "       [4.000e+00, 1.350e+02, 8.400e+01, 2.370e+03, 1.300e+01],\n",
       "       [4.000e+00, 1.050e+02, 6.300e+01, 2.125e+03, 1.470e+01],\n",
       "       [4.000e+00, 1.350e+02, 8.400e+01, 2.370e+03, 1.300e+01],\n",
       "       [4.000e+00, 1.050e+02, 6.300e+01, 2.125e+03, 1.470e+01]])"
      ]
     },
     "execution_count": 18,
     "metadata": {},
     "output_type": "execute_result"
    }
   ],
   "source": [
    "X=data.iloc[:,0:5]\n",
    "X"
   ]
  },
  {
   "cell_type": "code",
   "execution_count": 9,
   "metadata": {},
   "outputs": [],
   "source": [
    "from sklearn.preprocessing import LabelEncoder,OneHotEncoder\n",
    "labelencoder= LabelEncoder()\n",
    "y=labelencoder.fit_transform(y)\n",
    "#onehotencoder =OneHotEncoder(categorical_features=[0])\n",
    "\n",
    "#y=onehotencoder.fit_transform(y).toarray()\n",
    "y=y.reshape(-1, 1) \n",
    "\n",
    "#0=bad.... 1=good....2=ok"
   ]
  },
  {
   "cell_type": "code",
   "execution_count": 8,
   "metadata": {},
   "outputs": [],
   "source": [
    "X=data.iloc[:,0:5].values\n",
    "y=data.iloc[:,-1].values"
   ]
  },
  {
   "cell_type": "code",
   "execution_count": 14,
   "metadata": {},
   "outputs": [],
   "source": [
    "from sklearn.model_selection import train_test_split\n",
    "X_train, X_test, y_train,y_test = train_test_split(X,y, test_size=0.1)"
   ]
  },
  {
   "cell_type": "code",
   "execution_count": 22,
   "metadata": {},
   "outputs": [
    {
     "data": {
      "text/plain": [
       "DecisionTreeClassifier(class_weight=None, criterion='gini', max_depth=None,\n",
       "            max_features=None, max_leaf_nodes=None,\n",
       "            min_impurity_decrease=0.0, min_impurity_split=None,\n",
       "            min_samples_leaf=1, min_samples_split=2,\n",
       "            min_weight_fraction_leaf=0.0, presort=False, random_state=1,\n",
       "            splitter='best')"
      ]
     },
     "execution_count": 22,
     "metadata": {},
     "output_type": "execute_result"
    }
   ],
   "source": [
    "from sklearn import tree\n",
    "dtree=tree.DecisionTreeClassifier(random_state=1) #Ceating decision tree model\n",
    "dtree.fit(X_train,y_train) #model is being trained with training set"
   ]
  },
  {
   "cell_type": "code",
   "execution_count": 23,
   "metadata": {},
   "outputs": [],
   "source": [
    "y_predict_class= dtree.predict(X_test)"
   ]
  },
  {
   "cell_type": "code",
   "execution_count": 24,
   "metadata": {},
   "outputs": [
    {
     "name": "stdout",
     "output_type": "stream",
     "text": [
      "[1 0 0 0 1]\n"
     ]
    }
   ],
   "source": [
    "from sklearn import metrics\n",
    "print(y_predict_class)"
   ]
  },
  {
   "cell_type": "code",
   "execution_count": 25,
   "metadata": {},
   "outputs": [
    {
     "name": "stdout",
     "output_type": "stream",
     "text": [
      "0.8\n"
     ]
    }
   ],
   "source": [
    "accuracy =metrics.accuracy_score(y_test,y_predict_class)\n",
    "print(accuracy)"
   ]
  },
  {
   "cell_type": "code",
   "execution_count": null,
   "metadata": {},
   "outputs": [],
   "source": [
    "\n"
   ]
  },
  {
   "cell_type": "code",
   "execution_count": null,
   "metadata": {},
   "outputs": [],
   "source": [
    "\n"
   ]
  },
  {
   "cell_type": "code",
   "execution_count": null,
   "metadata": {},
   "outputs": [],
   "source": [
    "\n"
   ]
  },
  {
   "cell_type": "code",
   "execution_count": null,
   "metadata": {},
   "outputs": [],
   "source": []
  }
 ],
 "metadata": {
  "kernelspec": {
   "display_name": "Python 3",
   "language": "python",
   "name": "python3"
  },
  "language_info": {
   "codemirror_mode": {
    "name": "ipython",
    "version": 3
   },
   "file_extension": ".py",
   "mimetype": "text/x-python",
   "name": "python",
   "nbconvert_exporter": "python",
   "pygments_lexer": "ipython3",
   "version": "3.7.0"
  }
 },
 "nbformat": 4,
 "nbformat_minor": 2
}
